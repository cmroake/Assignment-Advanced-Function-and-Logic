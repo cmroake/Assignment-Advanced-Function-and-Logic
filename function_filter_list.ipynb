{
 "cells": [
  {
   "cell_type": "code",
   "execution_count": 3,
   "id": "e1240d16-32cb-4e67-8049-0ae6618e970c",
   "metadata": {},
   "outputs": [
    {
     "name": "stdout",
     "output_type": "stream",
     "text": [
      "[1, 2, 3, 4, 5, 6]\n"
     ]
    }
   ],
   "source": [
    "# this is a function that will only return items in a list if they are below or equal to a threshold value\n",
    "def threshold(numbered_list,value):\n",
    "    new_list = []\n",
    "    for item in numbered_list:\n",
    "        if item <= value:\n",
    "            new_list.append(item)\n",
    "            continue\n",
    "        else:\n",
    "            continue\n",
    "    return new_list\n",
    "    \n",
    "# this is a sample input list\n",
    "numbered_list = [1,2,3,4,5,6,7,8,9]\n",
    "# this is the value above which items will be removed from the list\n",
    "value = 6\n",
    "print (threshold(numbered_list,value))"
   ]
  },
  {
   "cell_type": "code",
   "execution_count": null,
   "id": "cd977ea0-bea4-4908-aca5-042243a98d61",
   "metadata": {},
   "outputs": [],
   "source": []
  }
 ],
 "metadata": {
  "kernelspec": {
   "display_name": "Python 3 (ipykernel)",
   "language": "python",
   "name": "python3"
  },
  "language_info": {
   "codemirror_mode": {
    "name": "ipython",
    "version": 3
   },
   "file_extension": ".py",
   "mimetype": "text/x-python",
   "name": "python",
   "nbconvert_exporter": "python",
   "pygments_lexer": "ipython3",
   "version": "3.13.6"
  }
 },
 "nbformat": 4,
 "nbformat_minor": 5
}
