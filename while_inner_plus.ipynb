{
 "cells": [
  {
   "cell_type": "code",
   "execution_count": 1,
   "id": "dbb3f5ef-2c7d-45b0-a399-11bd15d7c90d",
   "metadata": {},
   "outputs": [
    {
     "name": "stdout",
     "output_type": "stream",
     "text": [
      "[9, 10]\n"
     ]
    }
   ],
   "source": [
    "# The nested list we want to return the innermost list of\n",
    "nested_list = [1,2,3,4,[5,6,7,[8,9]]]\n",
    "\n",
    "# A function that will tell you if a list contains a value of a certain type, for example another list\n",
    "def contains_type(my_list, target):\n",
    "    for item in my_list:\n",
    "        if type(item) == target:\n",
    "            return True\n",
    "        \n",
    "    return False  \n",
    "\n",
    "# A function that returns the innermost list of a nested list with 1 added to each of the values\n",
    "def denest_while(nested_list):\n",
    "    new_list = nested_list\n",
    "    while isinstance(new_list, list) and len(new_list) > 0 and contains_type(new_list, list):\n",
    "        for item in new_list:\n",
    "            if isinstance(item, list):\n",
    "                new_list = item\n",
    "                break\n",
    "        else:\n",
    "            break\n",
    "   \n",
    "    counter = 0\n",
    "    for item in new_list:\n",
    "        new_list[counter] = new_list[counter] + 1\n",
    "        counter += 1\n",
    "    return new_list\n",
    "\n",
    "print (denest_while(nested_list))"
   ]
  },
  {
   "cell_type": "code",
   "execution_count": null,
   "id": "272633fc-3459-42cf-a5de-2cec357fb5ea",
   "metadata": {},
   "outputs": [],
   "source": []
  }
 ],
 "metadata": {
  "kernelspec": {
   "display_name": "Python 3 (ipykernel)",
   "language": "python",
   "name": "python3"
  },
  "language_info": {
   "codemirror_mode": {
    "name": "ipython",
    "version": 3
   },
   "file_extension": ".py",
   "mimetype": "text/x-python",
   "name": "python",
   "nbconvert_exporter": "python",
   "pygments_lexer": "ipython3",
   "version": "3.13.6"
  }
 },
 "nbformat": 4,
 "nbformat_minor": 5
}
