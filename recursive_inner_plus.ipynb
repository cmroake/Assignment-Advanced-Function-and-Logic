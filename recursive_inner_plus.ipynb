{
 "cells": [
  {
   "cell_type": "code",
   "execution_count": 2,
   "id": "1397ea27-bf7a-4183-a3b9-a30d56095e77",
   "metadata": {},
   "outputs": [
    {
     "name": "stdout",
     "output_type": "stream",
     "text": [
      "[9, 10]\n"
     ]
    }
   ],
   "source": [
    "nested_list = [1,2,3,4,[5,6,7,[8,9]]]\n",
    "\n",
    "# this is a function that determines whether a list contains a type\n",
    "def contains_type(my_list,target):\n",
    "    for item in my_list:\n",
    "        if type(item) == target:\n",
    "            return True\n",
    "        else:\n",
    "            continue\n",
    "        return False\n",
    "\n",
    "# this is a function that returns the innermost list in a list of lists using recursion and adds 1 to each value in the innermost list\n",
    "def denest (nested_list):\n",
    "    for item in nested_list:\n",
    "        if type(item) == list:\n",
    "            if contains_type(item,list) == True:\n",
    "                return denest(item)\n",
    "            else:\n",
    "                counter = 0\n",
    "                for i in item:\n",
    "                    item[counter] = item[counter]+1\n",
    "                    counter +=1\n",
    "                return item\n",
    "\n",
    "print (denest(nested_list))"
   ]
  },
  {
   "cell_type": "code",
   "execution_count": null,
   "id": "e2f775f6-0edf-498f-a5b7-48c1e44b1d57",
   "metadata": {},
   "outputs": [],
   "source": []
  }
 ],
 "metadata": {
  "kernelspec": {
   "display_name": "Python 3 (ipykernel)",
   "language": "python",
   "name": "python3"
  },
  "language_info": {
   "codemirror_mode": {
    "name": "ipython",
    "version": 3
   },
   "file_extension": ".py",
   "mimetype": "text/x-python",
   "name": "python",
   "nbconvert_exporter": "python",
   "pygments_lexer": "ipython3",
   "version": "3.13.6"
  }
 },
 "nbformat": 4,
 "nbformat_minor": 5
}
